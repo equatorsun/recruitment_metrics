{
 "cells": [
  {
   "cell_type": "markdown",
   "metadata": {},
   "source": [
    "\"I solemnly swear that I am up to no good\" when I shortcut Calculus with SymPy. But I'm surprised by how useful it is in recruitment / HR analytics.\n",
    "\n",
    "This is how I got sidetracked when Dr. Joseph W. Cutrone in his Coursera class asked to find the equation of the tangent line to the curve $y=3e^x+x$ at the point where $x=0$. More on that later.\n",
    "\n",
    "We'll need to start by pulling Euler's number $e$ from SymPy."
   ]
  },
  {
   "cell_type": "code",
   "execution_count": 2,
   "metadata": {},
   "outputs": [
    {
     "name": "stdout",
     "output_type": "stream",
     "text": [
      "Derivative is 3*exp(x) + 1\n",
      "Slope is 4 at x=0\n",
      "Tangent line is y = 4*x + 3\n"
     ]
    }
   ],
   "source": [
    "import sympy as sp\n",
    "from sympy import symbols, diff, simplify\n",
    "\n",
    "x = symbols('x')\n",
    "\n",
    "y = 3*sp.exp(x)+x\n",
    "\n",
    "derivative = diff(y,x)\n",
    "\n",
    "print(\"Derivative is\",derivative)\n",
    "\n",
    "slope = derivative.subs(x,0)\n",
    "\n",
    "print(\"Slope is\", slope, \"at x=0\")\n",
    "\n",
    "y1 = y.subs(x,0)\n",
    "\n",
    "tangent_line = slope*(x-0)+y1\n",
    "\n",
    "tangent_line = simplify(tangent_line)\n",
    "\n",
    "print(\"Tangent line is y =\", tangent_line)\n"
   ]
  },
  {
   "cell_type": "markdown",
   "metadata": {},
   "source": [
    "To graphically show that $y=4x+3$ is the tangent line to the curve $y=3e^x+x$ at the point where $x=0$, we'll use good old matplotlib and NumPy."
   ]
  },
  {
   "cell_type": "code",
   "execution_count": 3,
   "metadata": {},
   "outputs": [],
   "source": [
    "import numpy as np\n",
    "\n",
    "import matplotlib.pyplot as plt"
   ]
  },
  {
   "cell_type": "markdown",
   "metadata": {},
   "source": [
    "NumPy doesn't read Euler notations the same way as SymPy so we'll need to lambdify everything."
   ]
  },
  {
   "cell_type": "code",
   "execution_count": 4,
   "metadata": {},
   "outputs": [],
   "source": [
    "curve = sp.lambdify(x, y, modules=['numpy'])\n",
    "\n",
    "tangent = sp.lambdify(x, tangent_line, modules=['numpy'])"
   ]
  },
  {
   "cell_type": "markdown",
   "metadata": {},
   "source": [
    "On the x-axis, we'll show the figure between $x=-5$ and $x=5$ with 1000 points."
   ]
  },
  {
   "cell_type": "code",
   "execution_count": 5,
   "metadata": {},
   "outputs": [
    {
     "data": {
      "image/png": "[encoded data removed]",
      "text/plain": [
       "<Figure size 500x500 with 1 Axes>"
      ]
     },
     "metadata": {},
     "output_type": "display_data"
    }
   ],
   "source": [
    "x_vals = np.linspace(-5, 5, 1000)  \n",
    "\n",
    "y_curve_vals = curve(x_vals)    \n",
    "\n",
    "y_tangent_vals = tangent(x_vals) \n",
    "\n",
    "plt.figure(figsize=(5, 5))\n",
    "\n",
    "#Curve\n",
    "plt.plot(x_vals, y_curve_vals, label=r'$y = 3e^x + x$', color='blue')\n",
    "\n",
    "#Tangent line\n",
    "plt.plot(x_vals, y_tangent_vals, label=r'$y = 4x + 3$ (Tangent at $x=0$)', color='red', linestyle='--')\n",
    "\n",
    "#Mark tangent point (0, 3)\n",
    "plt.scatter(0, 3, color='green', zorder=5)\n",
    "plt.annotate('(0, 3)', (0, 3), textcoords=\"offset points\", xytext=(10,10), ha='center')\n",
    "\n",
    "#Add labels and legend\n",
    "plt.xlabel('x')\n",
    "plt.ylabel('y')\n",
    "plt.title('Curve and Tangent Line at x=0')\n",
    "plt.legend()\n",
    "plt.show()"
   ]
  },
  {
   "cell_type": "markdown",
   "metadata": {},
   "source": [
    "Now putting my recruiter hat back on, why does this matter in real life? Well, suppose we want to know how many hires our talent acquisition team is placing per month, just for metrics and workforce planning purposes. In a perfect world, the hiring rate (aka hires per month) would be linear and we'll just have a much easier calculation with a straight blue line like finding $m$ in $y=mx+b$\n",
    "\n",
    "But in today's world, hiring can be slow, like during the holidays and then suddenly pick up exponentially in January when budgets just get approved and stakeholders (hiring managers, interviewers, compensation team, HRBP, etc.) are back from vacation. Hence the blue curve.\n",
    "\n",
    "\n",
    "Suppose that x represents the month of the year and y represents the number of hires made. Hypothetically speaking, if $x=1$ instead of $x=0$ to represent the 1st month in our metric period, January, we can use the tangent line equation to calculate the estimated hiring rate in January.\n",
    "\n",
    "If I actually solved for the slope (hiring rate) at $x=1$:\n",
    "\n"
   ]
  },
  {
   "cell_type": "code",
   "execution_count": 6,
   "metadata": {},
   "outputs": [
    {
     "name": "stdout",
     "output_type": "stream",
     "text": [
      "Slope is 1 + 3*E at x=1\n"
     ]
    }
   ],
   "source": [
    "slope = derivative.subs(x,1)\n",
    "\n",
    "print(\"Slope is\", slope, \"at x=1\")"
   ]
  },
  {
   "cell_type": "markdown",
   "metadata": {},
   "source": [
    "But I wouldn't want to tell the executives that we're making $1+3^e$ hires per month, so we'll convert this into a float rounded to the nearest whole number."
   ]
  },
  {
   "cell_type": "code",
   "execution_count": 8,
   "metadata": {},
   "outputs": [
    {
     "name": "stdout",
     "output_type": "stream",
     "text": [
      "9.\n"
     ]
    }
   ],
   "source": [
    "print(derivative.subs(x,1).evalf(1))"
   ]
  },
  {
   "cell_type": "markdown",
   "metadata": {},
   "source": [
    "Therefore in January, our talent acquisition team picked up more volume and made about 9 hires a month. \n",
    "\n",
    "\"Mischief managed.\""
   ]
  }
 ],
 "metadata": {
  "kernelspec": {
   "display_name": "Python 3",
   "language": "python",
   "name": "python3"
  },
  "language_info": {
   "codemirror_mode": {
    "name": "ipython",
    "version": 3
   },
   "file_extension": ".py",
   "mimetype": "text/x-python",
   "name": "python",
   "nbconvert_exporter": "python",
   "pygments_lexer": "ipython3",
   "version": "3.13.1"
  }
 },
 "nbformat": 4,
 "nbformat_minor": 2
}
